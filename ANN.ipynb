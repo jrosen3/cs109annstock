{
 "metadata": {
  "name": ""
 },
 "nbformat": 3,
 "nbformat_minor": 0,
 "worksheets": [
  {
   "cells": [
    {
     "cell_type": "code",
     "collapsed": false,
     "input": [
      "# special IPython command to prepare the notebook for matplotlib\n",
      "%matplotlib inline\n",
      "import numpy as np\n",
      "import pandas as pd\n",
      "import math\n",
      "import scipy\n",
      "import random\n",
      "import Quandl\n",
      "import matplotlib.pyplot as plt\n",
      "import string\n",
      "import calendar\n",
      "import datetime\n",
      "from pandas.tseries.offsets import *\n",
      "\n",
      "# set some nicer defaults for matplotlib\n",
      "from matplotlib import rcParams\n",
      "\n",
      "import scipy.stats as stats\n",
      "\n",
      "#these colors come from colorbrewer2.org. Each is an RGB triplet\n",
      "dark2_colors = [(0.10588235294117647, 0.6196078431372549, 0.4666666666666667),\n",
      "                (0.8509803921568627, 0.37254901960784315, 0.00784313725490196),\n",
      "                (0.4588235294117647, 0.4392156862745098, 0.7019607843137254),\n",
      "                (0.9058823529411765, 0.1607843137254902, 0.5411764705882353),\n",
      "                (0.4, 0.6509803921568628, 0.11764705882352941),\n",
      "                (0.9019607843137255, 0.6705882352941176, 0.00784313725490196),\n",
      "                (0.6509803921568628, 0.4627450980392157, 0.11372549019607843),\n",
      "                (0.4, 0.4, 0.4)]\n",
      "\n",
      "rcParams['figure.figsize'] = (10, 6)\n",
      "rcParams['figure.dpi'] = 150\n",
      "rcParams['axes.color_cycle'] = dark2_colors\n",
      "rcParams['lines.linewidth'] = 2\n",
      "rcParams['axes.grid'] = True\n",
      "rcParams['axes.facecolor'] = '#eeeeee'\n",
      "rcParams['font.size'] = 14\n",
      "rcParams['patch.edgecolor'] = 'none'"
     ],
     "language": "python",
     "metadata": {},
     "outputs": [],
     "prompt_number": 9
    },
    {
     "cell_type": "code",
     "collapsed": false,
     "input": [
      "authtoken='Cx1CtXeu61zjTzpehmNV'"
     ],
     "language": "python",
     "metadata": {},
     "outputs": [],
     "prompt_number": 10
    },
    {
     "cell_type": "code",
     "collapsed": false,
     "input": [
      "data = {'gold_price':'BUNDESBANK/BBK01_WT5511.1',\n",
      "        'usd_to_pound':'QUANDL/USDGBP.1',\n",
      "        'cpi':'FRED/CPIAUCSL.1',\n",
      "        'unemployment':'FRED/UNRATE.1',\n",
      "        'gas_price':'BTS_MM/RETAILGAS.1',\n",
      "        'house_sales':'FRED/HSN1F.1',\n",
      "        'usd_to_euro':'QUANDL/USDEUR.1',\n",
      "        's_and_p_500':'YAHOO/INDEX_GSPC.6'}"
     ],
     "language": "python",
     "metadata": {},
     "outputs": [],
     "prompt_number": 50
    },
    {
     "cell_type": "code",
     "collapsed": false,
     "input": [
      "'''\n",
      "takes a dictionary of Quandl codes and returns a list of dataframes\n",
      "the column name of each dataframe is its repective key from the dictionary\n",
      "'''\n",
      "def get_quandl_data(quandl_codes):\n",
      "    list_of_data = []\n",
      "    for number, code in enumerate(quandl_codes.values()):\n",
      "        data = Quandl.get([code], authtoken=authtoken)\n",
      "        data.columns = [quandl_codes.keys()[number]]\n",
      "        list_of_data.append(data)\n",
      "    return list_of_data"
     ],
     "language": "python",
     "metadata": {},
     "outputs": [],
     "prompt_number": 12
    },
    {
     "cell_type": "code",
     "collapsed": false,
     "input": [
      "'''\n",
      "takes that dictionary of Quandl data and cleans it. First, it changes the frequency to business day, then gets linear interpolation\n",
      "then collapses to weekly. Finds the right begin and end date, and truncates.\n",
      "'''\n",
      "def collapser(df):\n",
      "    df = df.asfreq(BDay())\n",
      "    df = df.apply(pd.Series.interpolate)\n",
      "    df = df.asfreq(Week(weekday=1))\n",
      "    return df\n",
      "\n",
      "def merger(list_of_data):\n",
      "    begin_date=datetime.datetime(1900,1,1,12,13,14)\n",
      "    end_date=datetime.datetime(2100,1,1,12,13,14)\n",
      "    for i in range(len(list_of_data)):\n",
      "        list_of_data[i] = collapser(list_of_data[i])\n",
      "        if (list_of_data[i].index[1]>begin_date):\n",
      "            begin_date=list_of_data[i].index[0]\n",
      "        if (list_of_data[i].index[-1]<end_date):\n",
      "            end_date=list_of_data[i].index[-1]\n",
      "    print begin_date, end_date\n",
      "    for i in range(len(list_of_data)):\n",
      "        list_of_data[i] = list_of_data[i].truncate(before=begin_date, after=end_date)\n",
      "    data=pd.concat(list_of_data, axis=1)\n",
      "    return data\n",
      "    "
     ],
     "language": "python",
     "metadata": {},
     "outputs": [],
     "prompt_number": 46
    },
    {
     "cell_type": "code",
     "collapsed": false,
     "input": [
      "list_of_data = get_quandl_data(data)\n"
     ],
     "language": "python",
     "metadata": {},
     "outputs": [
      {
       "output_type": "stream",
       "stream": "stdout",
       "text": [
        "Token Cx1CtXeu61zjTzpehmNV activated and saved for later use.\n",
        "Returning Dataframe for "
       ]
      },
      {
       "output_type": "stream",
       "stream": "stdout",
       "text": [
        " [u'FRED.CPIAUCSL.1']\n",
        "Token Cx1CtXeu61zjTzpehmNV activated and saved for later use.\n",
        "Returning Dataframe for "
       ]
      },
      {
       "output_type": "stream",
       "stream": "stdout",
       "text": [
        " [u'FRED.HSN1F.1']\n",
        "Token Cx1CtXeu61zjTzpehmNV activated and saved for later use.\n",
        "Returning Dataframe for "
       ]
      },
      {
       "output_type": "stream",
       "stream": "stdout",
       "text": [
        " [u'BTS_MM.RETAILGAS.1']\n",
        "Token Cx1CtXeu61zjTzpehmNV activated and saved for later use.\n",
        "Returning Dataframe for "
       ]
      },
      {
       "output_type": "stream",
       "stream": "stdout",
       "text": [
        " [u'BUNDESBANK.BBK01_WT5511.1']\n",
        "Token Cx1CtXeu61zjTzpehmNV activated and saved for later use.\n",
        "Returning Dataframe for "
       ]
      },
      {
       "output_type": "stream",
       "stream": "stdout",
       "text": [
        " [u'QUANDL.USDGBP.1']\n",
        "Token Cx1CtXeu61zjTzpehmNV activated and saved for later use.\n",
        "Returning Dataframe for "
       ]
      },
      {
       "output_type": "stream",
       "stream": "stdout",
       "text": [
        " [u'QUANDL.USDEUR.1']\n",
        "Token Cx1CtXeu61zjTzpehmNV activated and saved for later use.\n",
        "Returning Dataframe for "
       ]
      },
      {
       "output_type": "stream",
       "stream": "stdout",
       "text": [
        " [u'FRED.UNRATE.1']\n",
        "Token Cx1CtXeu61zjTzpehmNV activated and saved for later use.\n",
        "Returning Dataframe for "
       ]
      },
      {
       "output_type": "stream",
       "stream": "stdout",
       "text": [
        " [u'YAHOO.INDEX_GSPC.6']\n"
       ]
      }
     ],
     "prompt_number": 42
    },
    {
     "cell_type": "code",
     "collapsed": false,
     "input": [
      "dataset = merger(list_of_data)\n",
      "dataset.head()"
     ],
     "language": "python",
     "metadata": {},
     "outputs": [
      {
       "output_type": "stream",
       "stream": "stdout",
       "text": [
        "1999-09-07 00:00:00 2012-10-09 00:00:00\n"
       ]
      },
      {
       "html": [
        "<pre>\n",
        "&ltclass 'pandas.core.frame.DataFrame'&gt\n",
        "DatetimeIndex: 5 entries, 1999-09-07 00:00:00 to 1999-10-05 00:00:00\n",
        "Freq: W-TUE\n",
        "Data columns (total 8 columns):\n",
        "cpi             5  non-null values\n",
        "house_sales     5  non-null values\n",
        "gas_price       5  non-null values\n",
        "gold_price      5  non-null values\n",
        "usd_to_pound    5  non-null values\n",
        "usd_to_euro     5  non-null values\n",
        "unemployment    5  non-null values\n",
        "s_and_p_500     5  non-null values\n",
        "dtypes: float64(8)\n",
        "</pre>"
       ],
       "metadata": {},
       "output_type": "pyout",
       "prompt_number": 51,
       "text": [
        "                   cpi  house_sales  gas_price  gold_price  usd_to_pound  \\\n",
        "1999-09-07  167.854545   834.363636     1.2436      254.90      0.623157   \n",
        "1999-09-14  167.922727   844.818182     1.2536      256.70      0.621785   \n",
        "1999-09-21  167.990909   855.272727     1.2668      255.20      0.615034   \n",
        "1999-09-28  168.059091   865.727273     1.2606      288.25      0.607130   \n",
        "1999-10-05  168.128571   871.142857     1.2538      326.25      0.604444   \n",
        "\n",
        "            usd_to_euro  unemployment  s_and_p_500  \n",
        "1999-09-07     0.945500      4.181818      1350.45  \n",
        "1999-09-14     0.964873      4.159091      1336.29  \n",
        "1999-09-21     0.959907      4.136364      1307.58  \n",
        "1999-09-28     0.955362      4.113636      1282.20  \n",
        "1999-10-05     0.934479      4.100000      1301.35  "
       ]
      }
     ],
     "prompt_number": 51
    },
    {
     "cell_type": "code",
     "collapsed": false,
     "input": [
      "print data.keys()"
     ],
     "language": "python",
     "metadata": {},
     "outputs": [
      {
       "output_type": "stream",
       "stream": "stdout",
       "text": [
        "['cpi', 'house_sales', 'gas_price', 'gold_price', 'usd_to_pound', 'usd_to_euro', 'unemployment', 's_and_p_500']\n"
       ]
      }
     ],
     "prompt_number": 53
    },
    {
     "cell_type": "markdown",
     "metadata": {},
     "source": [
      "# Artificial Neural Networks and Stock Price Predictions #\n",
      "##### Jared Rosen, Jake Silberg, Kevin Sun #####\n",
      "## Table of Contents ##\n",
      "####Introduction and Goal####\n",
      "#### The Data ####\n",
      "* Part I: Data Selection\n",
      "* Part II: Downloading Data\n",
      "* Part III: Processing Data\n",
      "* Part IV: Data Exploration\n",
      "\n",
      "#### The Model ####\n",
      "* Part V: Building the Model\n",
      "* Part VI: Validating the Model\n",
      "* Part VII: Cross Validation"
     ]
    },
    {
     "cell_type": "markdown",
     "metadata": {},
     "source": [
      "## Part I: Data Selection ##\n"
     ]
    },
    {
     "cell_type": "code",
     "collapsed": false,
     "input": [
      "#Input: data frame and an array of x number of column names that need percent difference calculations\n",
      "#Output: data frame with x new columns, with extra '_pdiff' as column name, representing the percentage difference.\n",
      "def percentageDifference(df, columns):\n",
      "    diff_columns=[]\n",
      "    df_columns=test=list(df.columns)\n",
      "    for column in columns:\n",
      "        if column in df_columns:\n",
      "            diff_columns.append(column)\n",
      "            df[column+\"_pdiff\"]= float('nan')\n",
      "        else:\n",
      "            continue\n",
      "    for i in range(1, len(data)):\n",
      "        for ncolumn in diff_columns:\n",
      "            df[ncolumn+\"_pdiff\"].ix[i] = (df[ncolumn].ix[i] - df[ncolumn].ix[i-1]) / df[ncolumn].ix[i-1]\n",
      "    return df[1:]"
     ],
     "language": "python",
     "metadata": {},
     "outputs": [],
     "prompt_number": 61
    },
    {
     "cell_type": "code",
     "collapsed": false,
     "input": [
      "dataset = percentageDifference(dataset,data.keys())\n",
      "print dataset.head()"
     ],
     "language": "python",
     "metadata": {},
     "outputs": [
      {
       "output_type": "stream",
       "stream": "stdout",
       "text": [
        "                   cpi  house_sales  gas_price  gold_price  usd_to_pound  \\\n",
        "1999-09-14  167.922727   844.818182     1.2536      256.70      0.621785   \n",
        "1999-09-21  167.990909   855.272727     1.2668      255.20      0.615034   \n",
        "1999-09-28  168.059091   865.727273     1.2606      288.25      0.607130   \n",
        "1999-10-05  168.128571   871.142857     1.2538      326.25      0.604444   \n",
        "1999-10-12  168.200000   869.000000     1.2464      323.50      0.604775   \n",
        "\n",
        "            usd_to_euro  unemployment  s_and_p_500  cpi_pdiff  \\\n",
        "1999-09-14     0.964873      4.159091      1336.29   0.000406   \n",
        "1999-09-21     0.959907      4.136364      1307.58   0.000406   \n",
        "1999-09-28     0.955362      4.113636      1282.20   0.000406   \n",
        "1999-10-05     0.934479      4.100000      1301.35   0.000413   \n",
        "1999-10-12     0.938612      4.100000      1313.04   0.000425   \n",
        "\n",
        "            house_sales_pdiff  gas_price_pdiff  gold_price_pdiff  \\\n",
        "1999-09-14           0.012530         0.008041          0.007062   \n",
        "1999-09-21           0.012375         0.010530         -0.005843   \n",
        "1999-09-28           0.012224        -0.004894          0.129506   \n",
        "1999-10-05           0.006256        -0.005394          0.131830   \n",
        "1999-10-12          -0.002460        -0.005902         -0.008429   \n",
        "\n",
        "            usd_to_pound_pdiff  usd_to_euro_pdiff  unemployment_pdiff  \\\n",
        "1999-09-14           -0.002202           0.020490           -0.005435   \n",
        "1999-09-21           -0.010857          -0.005147           -0.005464   \n",
        "1999-09-28           -0.012851          -0.004735           -0.005495   \n",
        "1999-10-05           -0.004424          -0.021859           -0.003315   \n",
        "1999-10-12            0.000548           0.004423            0.000000   \n",
        "\n",
        "            s_and_p_500_pdiff  \n",
        "1999-09-14          -0.010485  \n",
        "1999-09-21          -0.021485  \n",
        "1999-09-28          -0.019410  \n",
        "1999-10-05           0.014935  \n",
        "1999-10-12           0.008983  \n"
       ]
      }
     ],
     "prompt_number": 62
    },
    {
     "cell_type": "code",
     "collapsed": false,
     "input": [
      "fx_euro = Quandl.get(['QUANDL/USDEUR.1'], collapse=\"weekly\", authtoken=authtoken, trim_start =\"January 1 2000\", trim_end=\"December 31 2012\")\n",
      "fx_euro.columns = [\"fx_euro\"]\n",
      "fx_euro.head()"
     ],
     "language": "python",
     "metadata": {},
     "outputs": [
      {
       "output_type": "stream",
       "stream": "stdout",
       "text": [
        "Token Cx1CtXeu61zjTzpehmNV activated and saved for later use.\n",
        "Returning Dataframe for "
       ]
      },
      {
       "output_type": "stream",
       "stream": "stdout",
       "text": [
        " [u'QUANDL.USDEUR.1']\n"
       ]
      },
      {
       "html": [
        "<div style=\"max-height:1000px;max-width:1500px;overflow:auto;\">\n",
        "<table border=\"1\" class=\"dataframe\">\n",
        "  <thead>\n",
        "    <tr style=\"text-align: right;\">\n",
        "      <th></th>\n",
        "      <th>fx_euro</th>\n",
        "    </tr>\n",
        "    <tr>\n",
        "      <th>Date</th>\n",
        "      <th></th>\n",
        "    </tr>\n",
        "  </thead>\n",
        "  <tbody>\n",
        "    <tr>\n",
        "      <th>2000-01-03</th>\n",
        "      <td> 0.994890</td>\n",
        "    </tr>\n",
        "    <tr>\n",
        "      <th>2000-01-04</th>\n",
        "      <td> 0.982722</td>\n",
        "    </tr>\n",
        "    <tr>\n",
        "      <th>2000-01-05</th>\n",
        "      <td> 0.971969</td>\n",
        "    </tr>\n",
        "    <tr>\n",
        "      <th>2000-01-06</th>\n",
        "      <td> 0.969311</td>\n",
        "    </tr>\n",
        "    <tr>\n",
        "      <th>2000-01-07</th>\n",
        "      <td> 0.969049</td>\n",
        "    </tr>\n",
        "  </tbody>\n",
        "</table>\n",
        "</div>"
       ],
       "metadata": {},
       "output_type": "pyout",
       "prompt_number": 11,
       "text": [
        "             fx_euro\n",
        "Date                \n",
        "2000-01-03  0.994890\n",
        "2000-01-04  0.982722\n",
        "2000-01-05  0.971969\n",
        "2000-01-06  0.969311\n",
        "2000-01-07  0.969049"
       ]
      }
     ],
     "prompt_number": 11
    },
    {
     "cell_type": "code",
     "collapsed": false,
     "input": [
      "fx_euro['fx_euro_pdiff'] = float('nan')\n",
      "fx_euro.head()"
     ],
     "language": "python",
     "metadata": {},
     "outputs": [
      {
       "html": [
        "<div style=\"max-height:1000px;max-width:1500px;overflow:auto;\">\n",
        "<table border=\"1\" class=\"dataframe\">\n",
        "  <thead>\n",
        "    <tr style=\"text-align: right;\">\n",
        "      <th></th>\n",
        "      <th>fx_euro</th>\n",
        "      <th>fx_euro_pdiff</th>\n",
        "    </tr>\n",
        "    <tr>\n",
        "      <th>Date</th>\n",
        "      <th></th>\n",
        "      <th></th>\n",
        "    </tr>\n",
        "  </thead>\n",
        "  <tbody>\n",
        "    <tr>\n",
        "      <th>2000-01-03</th>\n",
        "      <td> 0.994890</td>\n",
        "      <td>NaN</td>\n",
        "    </tr>\n",
        "    <tr>\n",
        "      <th>2000-01-04</th>\n",
        "      <td> 0.982722</td>\n",
        "      <td>NaN</td>\n",
        "    </tr>\n",
        "    <tr>\n",
        "      <th>2000-01-05</th>\n",
        "      <td> 0.971969</td>\n",
        "      <td>NaN</td>\n",
        "    </tr>\n",
        "    <tr>\n",
        "      <th>2000-01-06</th>\n",
        "      <td> 0.969311</td>\n",
        "      <td>NaN</td>\n",
        "    </tr>\n",
        "    <tr>\n",
        "      <th>2000-01-07</th>\n",
        "      <td> 0.969049</td>\n",
        "      <td>NaN</td>\n",
        "    </tr>\n",
        "  </tbody>\n",
        "</table>\n",
        "</div>"
       ],
       "metadata": {},
       "output_type": "pyout",
       "prompt_number": 12,
       "text": [
        "             fx_euro  fx_euro_pdiff\n",
        "Date                               \n",
        "2000-01-03  0.994890            NaN\n",
        "2000-01-04  0.982722            NaN\n",
        "2000-01-05  0.971969            NaN\n",
        "2000-01-06  0.969311            NaN\n",
        "2000-01-07  0.969049            NaN"
       ]
      }
     ],
     "prompt_number": 12
    },
    {
     "cell_type": "code",
     "collapsed": false,
     "input": [
      "for i in range(len(sandp)):\n",
      "    if(np.isnan(fx_euro['fx_euro'].ix[i])):\n",
      "        print i, fx_euro.ix[i]\n",
      "\n",
      "for i in range(1, len(fx_euro)):\n",
      "    fx_euro['fx_euro_pdiff'].ix[i] = (fx_euro['fx_euro'].ix[i] - fx_euro['fx_euro'].ix[i-1]) / fx_euro['fx_euro'].ix[i-1]\n",
      "\n",
      "sandp.head()"
     ],
     "language": "python",
     "metadata": {},
     "outputs": [
      {
       "html": [
        "<div style=\"max-height:1000px;max-width:1500px;overflow:auto;\">\n",
        "<table border=\"1\" class=\"dataframe\">\n",
        "  <thead>\n",
        "    <tr style=\"text-align: right;\">\n",
        "      <th></th>\n",
        "      <th>sandp</th>\n",
        "      <th>sandp_pdiff</th>\n",
        "    </tr>\n",
        "    <tr>\n",
        "      <th>Date</th>\n",
        "      <th></th>\n",
        "      <th></th>\n",
        "    </tr>\n",
        "  </thead>\n",
        "  <tbody>\n",
        "    <tr>\n",
        "      <th>2000-01-03</th>\n",
        "      <td> 1455.22</td>\n",
        "      <td>      NaN</td>\n",
        "    </tr>\n",
        "    <tr>\n",
        "      <th>2000-01-04</th>\n",
        "      <td> 1399.42</td>\n",
        "      <td>-0.038345</td>\n",
        "    </tr>\n",
        "    <tr>\n",
        "      <th>2000-01-05</th>\n",
        "      <td> 1402.11</td>\n",
        "      <td> 0.001922</td>\n",
        "    </tr>\n",
        "    <tr>\n",
        "      <th>2000-01-06</th>\n",
        "      <td> 1403.45</td>\n",
        "      <td> 0.000956</td>\n",
        "    </tr>\n",
        "    <tr>\n",
        "      <th>2000-01-07</th>\n",
        "      <td> 1441.47</td>\n",
        "      <td> 0.027090</td>\n",
        "    </tr>\n",
        "  </tbody>\n",
        "</table>\n",
        "</div>"
       ],
       "metadata": {},
       "output_type": "pyout",
       "prompt_number": 13,
       "text": [
        "              sandp  sandp_pdiff\n",
        "Date                            \n",
        "2000-01-03  1455.22          NaN\n",
        "2000-01-04  1399.42    -0.038345\n",
        "2000-01-05  1402.11     0.001922\n",
        "2000-01-06  1403.45     0.000956\n",
        "2000-01-07  1441.47     0.027090"
       ]
      }
     ],
     "prompt_number": 13
    },
    {
     "cell_type": "code",
     "collapsed": false,
     "input": [
      "gsp = pd.concat([data, sandp, fx_euro], axis=1)\n",
      "gsp.head()"
     ],
     "language": "python",
     "metadata": {},
     "outputs": [
      {
       "html": [
        "<div style=\"max-height:1000px;max-width:1500px;overflow:auto;\">\n",
        "<table border=\"1\" class=\"dataframe\">\n",
        "  <thead>\n",
        "    <tr style=\"text-align: right;\">\n",
        "      <th></th>\n",
        "      <th>gold</th>\n",
        "      <th>gold_pdiff</th>\n",
        "      <th>sandp</th>\n",
        "      <th>sandp_pdiff</th>\n",
        "      <th>fx_euro</th>\n",
        "      <th>fx_euro_pdiff</th>\n",
        "    </tr>\n",
        "    <tr>\n",
        "      <th>Date</th>\n",
        "      <th></th>\n",
        "      <th></th>\n",
        "      <th></th>\n",
        "      <th></th>\n",
        "      <th></th>\n",
        "      <th></th>\n",
        "    </tr>\n",
        "  </thead>\n",
        "  <tbody>\n",
        "    <tr>\n",
        "      <th>2000-01-03</th>\n",
        "      <td>    NaN</td>\n",
        "      <td>      NaN</td>\n",
        "      <td> 1455.22</td>\n",
        "      <td>      NaN</td>\n",
        "      <td> 0.994890</td>\n",
        "      <td>      NaN</td>\n",
        "    </tr>\n",
        "    <tr>\n",
        "      <th>2000-01-04</th>\n",
        "      <td> 282.05</td>\n",
        "      <td>      NaN</td>\n",
        "      <td> 1399.42</td>\n",
        "      <td>-0.038345</td>\n",
        "      <td> 0.982722</td>\n",
        "      <td>-0.012230</td>\n",
        "    </tr>\n",
        "    <tr>\n",
        "      <th>2000-01-05</th>\n",
        "      <td> 282.10</td>\n",
        "      <td> 0.000177</td>\n",
        "      <td> 1402.11</td>\n",
        "      <td> 0.001922</td>\n",
        "      <td> 0.971969</td>\n",
        "      <td>-0.010942</td>\n",
        "    </tr>\n",
        "    <tr>\n",
        "      <th>2000-01-06</th>\n",
        "      <td> 280.35</td>\n",
        "      <td>-0.006203</td>\n",
        "      <td> 1403.45</td>\n",
        "      <td> 0.000956</td>\n",
        "      <td> 0.969311</td>\n",
        "      <td>-0.002735</td>\n",
        "    </tr>\n",
        "    <tr>\n",
        "      <th>2000-01-07</th>\n",
        "      <td> 282.00</td>\n",
        "      <td> 0.005886</td>\n",
        "      <td> 1441.47</td>\n",
        "      <td> 0.027090</td>\n",
        "      <td> 0.969049</td>\n",
        "      <td>-0.000270</td>\n",
        "    </tr>\n",
        "  </tbody>\n",
        "</table>\n",
        "</div>"
       ],
       "metadata": {},
       "output_type": "pyout",
       "prompt_number": 14,
       "text": [
        "              gold  gold_pdiff    sandp  sandp_pdiff   fx_euro  fx_euro_pdiff\n",
        "Date                                                                         \n",
        "2000-01-03     NaN         NaN  1455.22          NaN  0.994890            NaN\n",
        "2000-01-04  282.05         NaN  1399.42    -0.038345  0.982722      -0.012230\n",
        "2000-01-05  282.10    0.000177  1402.11     0.001922  0.971969      -0.010942\n",
        "2000-01-06  280.35   -0.006203  1403.45     0.000956  0.969311      -0.002735\n",
        "2000-01-07  282.00    0.005886  1441.47     0.027090  0.969049      -0.000270"
       ]
      }
     ],
     "prompt_number": 14
    },
    {
     "cell_type": "code",
     "collapsed": false,
     "input": [
      "gsp = gsp[~gsp.gold.isnull()]\n",
      "gsp = gsp[~gsp.gold_pdiff.isnull()]\n",
      "gsp = gsp[~gsp.sandp.isnull()]\n",
      "gsp = gsp[~gsp.sandp_pdiff.isnull()]\n",
      "gsp = gsp[~gsp.fx_euro.isnull()]\n",
      "gsp = gsp[~gsp.fx_euro_pdiff.isnull()]\n",
      "\n",
      "gsp.head()"
     ],
     "language": "python",
     "metadata": {},
     "outputs": [
      {
       "html": [
        "<div style=\"max-height:1000px;max-width:1500px;overflow:auto;\">\n",
        "<table border=\"1\" class=\"dataframe\">\n",
        "  <thead>\n",
        "    <tr style=\"text-align: right;\">\n",
        "      <th></th>\n",
        "      <th>gold</th>\n",
        "      <th>gold_pdiff</th>\n",
        "      <th>sandp</th>\n",
        "      <th>sandp_pdiff</th>\n",
        "      <th>fx_euro</th>\n",
        "      <th>fx_euro_pdiff</th>\n",
        "    </tr>\n",
        "    <tr>\n",
        "      <th>Date</th>\n",
        "      <th></th>\n",
        "      <th></th>\n",
        "      <th></th>\n",
        "      <th></th>\n",
        "      <th></th>\n",
        "      <th></th>\n",
        "    </tr>\n",
        "  </thead>\n",
        "  <tbody>\n",
        "    <tr>\n",
        "      <th>2000-01-05</th>\n",
        "      <td> 282.10</td>\n",
        "      <td> 0.000177</td>\n",
        "      <td> 1402.11</td>\n",
        "      <td> 0.001922</td>\n",
        "      <td> 0.971969</td>\n",
        "      <td>-0.010942</td>\n",
        "    </tr>\n",
        "    <tr>\n",
        "      <th>2000-01-06</th>\n",
        "      <td> 280.35</td>\n",
        "      <td>-0.006203</td>\n",
        "      <td> 1403.45</td>\n",
        "      <td> 0.000956</td>\n",
        "      <td> 0.969311</td>\n",
        "      <td>-0.002735</td>\n",
        "    </tr>\n",
        "    <tr>\n",
        "      <th>2000-01-07</th>\n",
        "      <td> 282.00</td>\n",
        "      <td> 0.005886</td>\n",
        "      <td> 1441.47</td>\n",
        "      <td> 0.027090</td>\n",
        "      <td> 0.969049</td>\n",
        "      <td>-0.000270</td>\n",
        "    </tr>\n",
        "    <tr>\n",
        "      <th>2000-01-10</th>\n",
        "      <td> 281.70</td>\n",
        "      <td>-0.001064</td>\n",
        "      <td> 1457.60</td>\n",
        "      <td> 0.011190</td>\n",
        "      <td> 0.970752</td>\n",
        "      <td> 0.001757</td>\n",
        "    </tr>\n",
        "    <tr>\n",
        "      <th>2000-01-11</th>\n",
        "      <td> 281.70</td>\n",
        "      <td> 0.000000</td>\n",
        "      <td> 1438.56</td>\n",
        "      <td>-0.013063</td>\n",
        "      <td> 0.973829</td>\n",
        "      <td> 0.003170</td>\n",
        "    </tr>\n",
        "  </tbody>\n",
        "</table>\n",
        "</div>"
       ],
       "metadata": {},
       "output_type": "pyout",
       "prompt_number": 15,
       "text": [
        "              gold  gold_pdiff    sandp  sandp_pdiff   fx_euro  fx_euro_pdiff\n",
        "Date                                                                         \n",
        "2000-01-05  282.10    0.000177  1402.11     0.001922  0.971969      -0.010942\n",
        "2000-01-06  280.35   -0.006203  1403.45     0.000956  0.969311      -0.002735\n",
        "2000-01-07  282.00    0.005886  1441.47     0.027090  0.969049      -0.000270\n",
        "2000-01-10  281.70   -0.001064  1457.60     0.011190  0.970752       0.001757\n",
        "2000-01-11  281.70    0.000000  1438.56    -0.013063  0.973829       0.003170"
       ]
      }
     ],
     "prompt_number": 15
    },
    {
     "cell_type": "code",
     "collapsed": false,
     "input": [
      "# print(np.where(~np.isfinite(gsp.gold)))"
     ],
     "language": "python",
     "metadata": {},
     "outputs": [],
     "prompt_number": 16
    },
    {
     "cell_type": "code",
     "collapsed": false,
     "input": [
      "x = gsp['gold'].values\n",
      "y = gsp['sandp'].values\n",
      "plt.scatter(x, y)\n",
      "m, b = np.polyfit(x, y, 1)\n",
      "plt.plot(x, np.array(x) * m + b)\n"
     ],
     "language": "python",
     "metadata": {},
     "outputs": [
      {
       "metadata": {},
       "output_type": "pyout",
       "prompt_number": 17,
       "text": [
        "[<matplotlib.lines.Line2D at 0x107c4cc10>]"
       ]
      },
      {
       "metadata": {},
       "output_type": "display_data",
       "png": "[encoded data removed]",
       "text": [
        "<matplotlib.figure.Figure at 0x107c6d610>"
       ]
      }
     ],
     "prompt_number": 17
    },
    {
     "cell_type": "code",
     "collapsed": false,
     "input": [
      "x = gsp['fx_euro'].values\n",
      "y = gsp['sandp'].values\n",
      "plt.scatter(x, y)\n",
      "m, b = np.polyfit(x, y, 1)\n",
      "plt.plot(x, np.array(x) * m + b)"
     ],
     "language": "python",
     "metadata": {},
     "outputs": [
      {
       "metadata": {},
       "output_type": "pyout",
       "prompt_number": 18,
       "text": [
        "[<matplotlib.lines.Line2D at 0x1086a6150>]"
       ]
      },
      {
       "metadata": {},
       "output_type": "display_data",
       "png": "[encoded data removed]",
       "text": [
        "<matplotlib.figure.Figure at 0x107c49850>"
       ]
      }
     ],
     "prompt_number": 18
    },
    {
     "cell_type": "code",
     "collapsed": false,
     "input": [
      "plt.scatter(gsp['fx_euro_pdiff'], gsp['sandp_pdiff'])"
     ],
     "language": "python",
     "metadata": {},
     "outputs": [
      {
       "metadata": {},
       "output_type": "pyout",
       "prompt_number": 19,
       "text": [
        "<matplotlib.collections.PathCollection at 0x107da8dd0>"
       ]
      },
      {
       "metadata": {},
       "output_type": "display_data",
       "png": "[encoded data removed]",
       "text": [
        "<matplotlib.figure.Figure at 0x107c32c10>"
       ]
      }
     ],
     "prompt_number": 19
    },
    {
     "cell_type": "code",
     "collapsed": false,
     "input": [
      "gsp['1_or_0'] = float('nan')\n",
      "gsp.head()"
     ],
     "language": "python",
     "metadata": {},
     "outputs": [
      {
       "html": [
        "<pre>\n",
        "&ltclass 'pandas.core.frame.DataFrame'&gt\n",
        "DatetimeIndex: 5 entries, 2000-01-05 00:00:00 to 2000-01-11 00:00:00\n",
        "Data columns (total 7 columns):\n",
        "gold             5  non-null values\n",
        "gold_pdiff       5  non-null values\n",
        "sandp            5  non-null values\n",
        "sandp_pdiff      5  non-null values\n",
        "fx_euro          5  non-null values\n",
        "fx_euro_pdiff    5  non-null values\n",
        "1_or_0           0  non-null values\n",
        "dtypes: float64(7)\n",
        "</pre>"
       ],
       "metadata": {},
       "output_type": "pyout",
       "prompt_number": 25,
       "text": [
        "              gold  gold_pdiff    sandp  sandp_pdiff   fx_euro  fx_euro_pdiff  \\\n",
        "Date                                                                            \n",
        "2000-01-05  282.10    0.000177  1402.11     0.001922  0.971969      -0.010942   \n",
        "2000-01-06  280.35   -0.006203  1403.45     0.000956  0.969311      -0.002735   \n",
        "2000-01-07  282.00    0.005886  1441.47     0.027090  0.969049      -0.000270   \n",
        "2000-01-10  281.70   -0.001064  1457.60     0.011190  0.970752       0.001757   \n",
        "2000-01-11  281.70    0.000000  1438.56    -0.013063  0.973829       0.003170   \n",
        "\n",
        "            1_or_0  \n",
        "Date                \n",
        "2000-01-05     NaN  \n",
        "2000-01-06     NaN  \n",
        "2000-01-07     NaN  \n",
        "2000-01-10     NaN  \n",
        "2000-01-11     NaN  "
       ]
      }
     ],
     "prompt_number": 25
    },
    {
     "cell_type": "code",
     "collapsed": false,
     "input": [
      "gsp['1_or_0'][gsp['sandp_pdiff'] > 0] = 1\n",
      "gsp['1_or_0'][gsp['sandp_pdiff'] <= 0] = 0\n",
      "print gsp.head()"
     ],
     "language": "python",
     "metadata": {},
     "outputs": [
      {
       "output_type": "stream",
       "stream": "stdout",
       "text": [
        "              gold  gold_pdiff    sandp  sandp_pdiff   fx_euro  fx_euro_pdiff  \\\n",
        "Date                                                                            \n",
        "2000-01-05  282.10    0.000177  1402.11     0.001922  0.971969      -0.010942   \n",
        "2000-01-06  280.35   -0.006203  1403.45     0.000956  0.969311      -0.002735   \n",
        "2000-01-07  282.00    0.005886  1441.47     0.027090  0.969049      -0.000270   \n",
        "2000-01-10  281.70   -0.001064  1457.60     0.011190  0.970752       0.001757   \n",
        "2000-01-11  281.70    0.000000  1438.56    -0.013063  0.973829       0.003170   \n",
        "\n",
        "            1_or_0  \n",
        "Date                \n",
        "2000-01-05       1  \n",
        "2000-01-06       1  \n",
        "2000-01-07       1  \n",
        "2000-01-10       1  \n",
        "2000-01-11       0  \n"
       ]
      }
     ],
     "prompt_number": 27
    },
    {
     "cell_type": "code",
     "collapsed": false,
     "input": [],
     "language": "python",
     "metadata": {},
     "outputs": [],
     "prompt_number": 32
    },
    {
     "cell_type": "code",
     "collapsed": false,
     "input": [
      "nn_prep = []\n",
      "for i in gsp.iterrows():\n",
      "    i = i[1]\n",
      "    nn_prep.append([[i['gold_pdiff'], i['fx_euro_pdiff']], [i['1_or_0']]])"
     ],
     "language": "python",
     "metadata": {},
     "outputs": [],
     "prompt_number": 46
    },
    {
     "cell_type": "code",
     "collapsed": false,
     "input": [
      "gsp_train = nn_prep[:-50]\n",
      "gsp_test = nn_prep[-50:]\n",
      "assert len(gsp) == len(gsp_test) + len(gsp_train)"
     ],
     "language": "python",
     "metadata": {},
     "outputs": [],
     "prompt_number": 48
    },
    {
     "cell_type": "code",
     "collapsed": false,
     "input": [
      "# Back-Propagation Neural Networks\n",
      "# \n",
      "# Written in Python.  See http://www.python.org/\n",
      "# Placed in the public domain.\n",
      "# Neil Schemenauer <nas@arctrix.com>\n",
      "\n",
      "\n",
      "random.seed(0)\n",
      "\n",
      "# calculate a random number where:  a <= rand < b\n",
      "def rand(a, b):\n",
      "    return (b-a)*random.random() + a\n",
      "\n",
      "# Make a matrix (we could use NumPy to speed this up)\n",
      "def makeMatrix(I, J, fill=0.0):\n",
      "    m = []\n",
      "    for i in range(I):\n",
      "        m.append([fill]*J)\n",
      "    return m\n",
      "\n",
      "# our sigmoid function, tanh is a little nicer than the standard 1/(1+e^-x)\n",
      "def sigmoid(x):\n",
      "    return math.tanh(x)\n",
      "\n",
      "# derivative of our sigmoid function, in terms of the output (i.e. y)\n",
      "def dsigmoid(y):\n",
      "    return 1.0 - y**2\n",
      "\n",
      "class NN:\n",
      "    def __init__(self, ni, nh, no):\n",
      "        # number of input, hidden, and output nodes\n",
      "        self.ni = ni + 1 # +1 for bias node\n",
      "        self.nh = nh\n",
      "        self.no = no\n",
      "\n",
      "        # activations for nodes\n",
      "        self.ai = [1.0]*self.ni\n",
      "        self.ah = [1.0]*self.nh\n",
      "        self.ao = [1.0]*self.no\n",
      "\n",
      "        # create weights\n",
      "        self.wi = makeMatrix(self.ni, self.nh)\n",
      "        self.wo = makeMatrix(self.nh, self.no)\n",
      "        # set them to random vaules\n",
      "        for i in range(self.ni):\n",
      "            for j in range(self.nh):\n",
      "                self.wi[i][j] = rand(-0.2, 0.2)\n",
      "        for j in range(self.nh):\n",
      "            for k in range(self.no):\n",
      "                self.wo[j][k] = rand(-2.0, 2.0)\n",
      "\n",
      "        # last change in weights for momentum   \n",
      "        self.ci = makeMatrix(self.ni, self.nh)\n",
      "        self.co = makeMatrix(self.nh, self.no)\n",
      "\n",
      "    def update(self, inputs):\n",
      "        if len(inputs) != self.ni-1:\n",
      "            raise ValueError, 'wrong number of inputs'\n",
      "\n",
      "        # input activations\n",
      "        for i in range(self.ni-1):\n",
      "            #self.ai[i] = sigmoid(inputs[i])\n",
      "            self.ai[i] = inputs[i]\n",
      "\n",
      "        # hidden activations\n",
      "        for j in range(self.nh):\n",
      "            summ = 0.0\n",
      "            for i in range(self.ni):\n",
      "                summ = summ + self.ai[i] * self.wi[i][j]\n",
      "            self.ah[j] = sigmoid(summ)\n",
      "\n",
      "        # output activations\n",
      "        for k in range(self.no):\n",
      "            summ = 0.0\n",
      "            for j in range(self.nh):\n",
      "                summ = summ + self.ah[j] * self.wo[j][k]\n",
      "            self.ao[k] = sigmoid(summ)\n",
      "\n",
      "        return self.ao[:]\n",
      "\n",
      "\n",
      "    def backPropagate(self, targets, N, M):\n",
      "        if len(targets) != self.no:\n",
      "            raise ValueError, 'wrong number of target values'\n",
      "\n",
      "        # calculate error terms for output\n",
      "        output_deltas = [0.0] * self.no\n",
      "        for k in range(self.no):\n",
      "            error = targets[k]-self.ao[k]\n",
      "            output_deltas[k] = dsigmoid(self.ao[k]) * error\n",
      "\n",
      "        # calculate error terms for hidden\n",
      "        hidden_deltas = [0.0] * self.nh\n",
      "        for j in range(self.nh):\n",
      "            error = 0.0\n",
      "            for k in range(self.no):\n",
      "                error = error + output_deltas[k]*self.wo[j][k]\n",
      "            hidden_deltas[j] = dsigmoid(self.ah[j]) * error\n",
      "\n",
      "        # update output weights\n",
      "        for j in range(self.nh):\n",
      "            for k in range(self.no):\n",
      "                change = output_deltas[k]*self.ah[j]\n",
      "                self.wo[j][k] = self.wo[j][k] + N*change + M*self.co[j][k]\n",
      "                self.co[j][k] = change\n",
      "                #print N*change, M*self.co[j][k]\n",
      "\n",
      "        # update input weights\n",
      "        for i in range(self.ni):\n",
      "            for j in range(self.nh):\n",
      "                change = hidden_deltas[j]*self.ai[i]\n",
      "                self.wi[i][j] = self.wi[i][j] + N*change + M*self.ci[i][j]\n",
      "                self.ci[i][j] = change\n",
      "\n",
      "        # calculate error\n",
      "        error = 0.0\n",
      "        for k in range(len(targets)):\n",
      "            error = error + 0.5*(targets[k]-self.ao[k])**2\n",
      "        return error\n",
      "\n",
      "\n",
      "    def test(self, patterns):\n",
      "        for p in patterns:\n",
      "            print p[0], '->', self.update(p[0])\n",
      "\n",
      "    def weights(self):\n",
      "        print 'Input weights:'\n",
      "        for i in range(self.ni):\n",
      "            print self.wi[i]\n",
      "        print\n",
      "        print 'Output weights:'\n",
      "        for j in range(self.nh):\n",
      "            print self.wo[j]\n",
      "\n",
      "    def train(self, patterns, iterations=1000, N=0.5, M=0.1):\n",
      "        # N: learning rate\n",
      "        # M: momentum factor\n",
      "        for i in xrange(iterations):\n",
      "            error = 0.0\n",
      "            for p in patterns:\n",
      "                inputs = p[0]\n",
      "                targets = p[1]\n",
      "                self.update(inputs)\n",
      "                error = error + self.backPropagate(targets, N, M)\n",
      "            if i % 100 == 0:\n",
      "                print 'error %-14f' % error"
     ],
     "language": "python",
     "metadata": {},
     "outputs": [],
     "prompt_number": 55
    },
    {
     "cell_type": "code",
     "collapsed": false,
     "input": [
      "def demo():\n",
      "    # create a network with two input, two hidden, and one output nodes\n",
      "    n = NN(2, 2, 1)\n",
      "    # train it with some patterns\n",
      "    n.train(gsp_train)\n",
      "    # test it\n",
      "    n.test(gsp_test)"
     ],
     "language": "python",
     "metadata": {},
     "outputs": [],
     "prompt_number": 56
    },
    {
     "cell_type": "code",
     "collapsed": false,
     "input": [
      "demo()"
     ],
     "language": "python",
     "metadata": {},
     "outputs": [
      {
       "output_type": "stream",
       "stream": "stdout",
       "text": [
        "error 439.792905    \n",
        "error 438.780083    "
       ]
      },
      {
       "output_type": "stream",
       "stream": "stdout",
       "text": [
        "\n",
        "error 438.820909    "
       ]
      },
      {
       "output_type": "stream",
       "stream": "stdout",
       "text": [
        "\n",
        "error 438.821522    "
       ]
      },
      {
       "output_type": "stream",
       "stream": "stdout",
       "text": [
        "\n",
        "error 438.819745    "
       ]
      },
      {
       "output_type": "stream",
       "stream": "stdout",
       "text": [
        "\n",
        "error 438.818208    "
       ]
      },
      {
       "output_type": "stream",
       "stream": "stdout",
       "text": [
        "\n",
        "error 438.816996    "
       ]
      },
      {
       "output_type": "stream",
       "stream": "stdout",
       "text": [
        "\n",
        "error 438.816046    "
       ]
      },
      {
       "output_type": "stream",
       "stream": "stdout",
       "text": [
        "\n",
        "error 438.815300    "
       ]
      },
      {
       "output_type": "stream",
       "stream": "stdout",
       "text": [
        "\n",
        "error 438.814714    "
       ]
      },
      {
       "output_type": "stream",
       "stream": "stdout",
       "text": [
        "\n",
        "[-0.0055801974531406494, -0.0011700140272399094]"
       ]
      },
      {
       "output_type": "stream",
       "stream": "stdout",
       "text": [
        " -> [0.48620277993651795]\n",
        "[0.0058992805755395681, -0.002623642552971176] -> [0.4704945153286617]\n",
        "[0.00014304105278214847, -0.0070234361109993244] -> [0.47983598517553055]\n",
        "[-0.0087242562929061782, -0.002565506677766935] -> [0.49068514425335763]\n",
        "[-0.0044726590679555617, 0.0038850191564856829] -> [0.48347942980057235]\n",
        "[-0.0046376811594202897, 0.0010128525242347141] -> [0.4844053393634913]\n",
        "[-0.0049504950495049506, 0.00066759765245553103] -> [0.4849119083803649]\n",
        "[0.0038045068773778167, 0.0033735492370096883] -> [0.4719730420222759]\n",
        "[-0.0064139941690962102, 0.0010999571445268915] -> [0.48677027392046485]\n",
        "[0.0026262036766851473, -0.00036312040607454658] -> [0.47464208905162175]\n",
        "[0.0030558789289871946, -0.0024018604723314543] -> [0.4745529002737109]\n",
        "[-0.0087044828086464531, -0.0001464282521002473] -> [0.49009076376770705]\n",
        "[-0.01712278647738914, 0.0061936557473082918] -> [0.49932253238421104]\n",
        "[0.0075938058368076235, 0.0050181935276123139] -> [0.4659437390683361]\n",
        "[0.022905275602187084, 0.00125725549200215] -> [0.44270666536731185]\n",
        "[-0.0089569488587113548, -0.00021119945932948875] -> [0.4904355741380318]\n",
        "[0.010349854227405248, 0.0024593931277822594] -> [0.46247115914652404]\n",
        "[0.0017313518972731207, 0.0036385324287872911] -> [0.47489060073523387]\n",
        "[-0.0063373181621777328, 0.00075331771556407467] -> [0.48675131452065307]\n",
        "[-0.00014494854326714017, 0.00096001139298296679] -> [0.47822992542562204]\n",
        "[-0.00057987822557262973, -0.00097433448000781647] -> [0.47932519287313813]\n",
        "[-0.007832898172323759, -0.0022137819049713996] -> [0.4894372521749539]\n",
        "[0.0077485380116959065, -0.00022429068072215734] -> [0.46712459584740723]\n",
        "[0.0062382126795299583, -0.0011624942640085963] -> [0.4696109182269211]\n",
        "[-0.004181084198385236, -0.0021401006625760949] -> [0.484556158451352]\n",
        "[0.0028905911258852437, -0.0037496914689404124] -> [0.4751362737903817]\n",
        "[0.0072056492289955323, -0.007516055861432498] -> [0.46987165665335806]\n",
        "[0.0, -0.0025816665459474533] -> [0.4789202335201181]\n",
        "[-0.0035770496494491343, 0.0] -> [0.48321320302487303]\n",
        "[-0.0094773118897185527, 0.002236924688905342] -> [0.4905388605935582]\n",
        "[0.0021745433458973617, -0.00082549138086065435] -> [0.47540596469365004]\n",
        "[-0.0059308549110371764, -0.0021237058667374241] -> [0.48690057534839476]\n",
        "[-0.0065483119906868453, -0.0029561572551080688] -> [0.48792017212422023]\n",
        "[-0.0021971583418778379, -0.0031198060175683909] -> [0.48209546022016964]\n",
        "[-0.0058719906048150319, -0.002152966367244491] -> [0.4868291399158365]\n",
        "[0.0023626698168930892, 0.0019888233362249331] -> [0.4744126214862578]\n",
        "[0.0067766647024160281, 0.0068935257792270129] -> [0.4666610224668308]\n",
        "[0.00073163593795727241, 0.0038686500577119558] -> [0.47625467400500915]\n",
        "[0.0016084222839596433, -0.0021070908581194542] -> [0.4765380412383043]\n",
        "[-0.010364963503649635, -0.0044444617061658257] -> [0.4932415217693953]\n",
        "[0.0010326006785661601, -0.0039168310600021777] -> [0.4778104231933276]\n",
        "[-0.0038314176245210726, -0.0057325481052303579] -> [0.48495798944094587]\n",
        "[0.0056213017751479289, -0.0024370195880701181] -> [0.47085184190337226]\n",
        "[-0.014710208884966167, -0.00099903913232341109] -> [0.4979413274830795]\n",
        "[-0.0044789489399820843, -0.0038473143242626173] -> [0.48537253533993147]\n",
        "[-0.011247750449910018, -0.00092850879107373894] -> [0.4935605216912154]\n",
        "[0.0086455331412103754, 0.0025815881135740001] -> [0.4650227779089431]\n",
        "[-0.0043609022556390974, -0.00036138937066810406] -> [0.484365896608805]\n",
        "[0.0021144842168856668, -0.0023393248019886563] -> [0.4758795759381603]\n",
        "[0.0031650339110776186, -4.8932866751775121e-05] -> [0.47378804565458604]\n"
       ]
      }
     ],
     "prompt_number": 57
    },
    {
     "cell_type": "code",
     "collapsed": false,
     "input": [],
     "language": "python",
     "metadata": {},
     "outputs": [
      {
       "output_type": "stream",
       "stream": "stdout",
       "text": [
        "3156\n",
        "50\n"
       ]
      }
     ],
     "prompt_number": 52
    },
    {
     "cell_type": "code",
     "collapsed": false,
     "input": [],
     "language": "python",
     "metadata": {},
     "outputs": []
    }
   ],
   "metadata": {}
  }
 ]
}