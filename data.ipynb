{
 "metadata": {
  "name": ""
 },
 "nbformat": 3,
 "nbformat_minor": 0,
 "worksheets": [
  {
   "cells": [
    {
     "cell_type": "code",
     "collapsed": false,
     "input": [
      "# special IPython command to prepare the notebook for matplotlib\n",
      "%matplotlib inline\n",
      "\n",
      "import numpy as np\n",
      "import pandas as pd\n",
      "import math\n",
      "import scipy\n",
      "import random\n",
      "import Quandl\n",
      "import matplotlib.pyplot as plt\n",
      "\n",
      "import string\n",
      "\n",
      "# set some nicer defaults for matplotlib\n",
      "from matplotlib import rcParams\n",
      "\n",
      "import scipy.stats as stats\n",
      "\n",
      "#these colors come from colorbrewer2.org. Each is an RGB triplet\n",
      "dark2_colors = [(0.10588235294117647, 0.6196078431372549, 0.4666666666666667),\n",
      "                (0.8509803921568627, 0.37254901960784315, 0.00784313725490196),\n",
      "                (0.4588235294117647, 0.4392156862745098, 0.7019607843137254),\n",
      "                (0.9058823529411765, 0.1607843137254902, 0.5411764705882353),\n",
      "                (0.4, 0.6509803921568628, 0.11764705882352941),\n",
      "                (0.9019607843137255, 0.6705882352941176, 0.00784313725490196),\n",
      "                (0.6509803921568628, 0.4627450980392157, 0.11372549019607843),\n",
      "                (0.4, 0.4, 0.4)]\n",
      "\n",
      "rcParams['figure.figsize'] = (10, 6)\n",
      "rcParams['figure.dpi'] = 150\n",
      "rcParams['axes.color_cycle'] = dark2_colors\n",
      "rcParams['lines.linewidth'] = 2\n",
      "rcParams['axes.grid'] = True\n",
      "rcParams['axes.facecolor'] = '#eeeeee'\n",
      "rcParams['font.size'] = 14\n",
      "rcParams['patch.edgecolor'] = 'none'\n",
      "\n",
      "authtoken='Cx1CtXeu61zjTzpehmNV'"
     ],
     "language": "python",
     "metadata": {},
     "outputs": [],
     "prompt_number": 4
    },
    {
     "cell_type": "code",
     "collapsed": false,
     "input": [
      "data = {'gold_price':'BUNDESBANK/BBK01_WT5511.1',\n",
      "        'usd_to_pound':'QUANDL/USDGBP.1',\n",
      "        'cpi':'FRED/CPIAUCSL.1',\n",
      "        'unemployment':'FRED/UNRATE.1',\n",
      "        'gas_price':'BTS_MM/RETAILGAS.1',\n",
      "        'house_sales':'FRED/HSN1F.1',\n",
      "        'usd_to_euro':'QUANDL/USDEUR.1',\n",
      "        's_and_p_500':'YAHOO/INDEX_GSPC.6'}"
     ],
     "language": "python",
     "metadata": {},
     "outputs": [],
     "prompt_number": 52
    },
    {
     "cell_type": "code",
     "collapsed": false,
     "input": [
      "'''\n",
      "takes a dictionary of Quandl codes and returns a list of dataframes\n",
      "the colom name of each dataframe is its repective key from the dictionary\n",
      "'''\n",
      "def get_quandl_data(quandl_codes):\n",
      "    list_of_data = []\n",
      "    for number, code in enumerate(quandl_codes.values()):\n",
      "        data = Quandl.get([code], authtoken=authtoken)\n",
      "        data.columns = [quandl_codes.keys()[number]]\n",
      "        list_of_data.append(data)\n",
      "    return list_of_data"
     ],
     "language": "python",
     "metadata": {},
     "outputs": [],
     "prompt_number": 53
    },
    {
     "cell_type": "code",
     "collapsed": false,
     "input": [
      "d = get_quandl_data(data)\n",
      "  "
     ],
     "language": "python",
     "metadata": {},
     "outputs": [
      {
       "output_type": "stream",
       "stream": "stdout",
       "text": [
        "Token Cx1CtXeu61zjTzpehmNV activated and saved for later use.\n",
        "Returning Dataframe for "
       ]
      },
      {
       "output_type": "stream",
       "stream": "stdout",
       "text": [
        " [u'FRED.CPIAUCSL.1']\n",
        "Token Cx1CtXeu61zjTzpehmNV activated and saved for later use.\n",
        "Returning Dataframe for "
       ]
      },
      {
       "output_type": "stream",
       "stream": "stdout",
       "text": [
        " [u'FRED.HSN1F.1']\n",
        "Token Cx1CtXeu61zjTzpehmNV activated and saved for later use.\n",
        "Returning Dataframe for "
       ]
      },
      {
       "output_type": "stream",
       "stream": "stdout",
       "text": [
        " [u'BTS_MM.RETAILGAS.1']\n",
        "Token Cx1CtXeu61zjTzpehmNV activated and saved for later use.\n",
        "Returning Dataframe for "
       ]
      },
      {
       "output_type": "stream",
       "stream": "stdout",
       "text": [
        " [u'BUNDESBANK.BBK01_WT5511.1']\n",
        "Token Cx1CtXeu61zjTzpehmNV activated and saved for later use.\n",
        "Returning Dataframe for "
       ]
      },
      {
       "output_type": "stream",
       "stream": "stdout",
       "text": [
        " [u'QUANDL.USDGBP.1']\n",
        "Token Cx1CtXeu61zjTzpehmNV activated and saved for later use.\n",
        "Returning Dataframe for "
       ]
      },
      {
       "output_type": "stream",
       "stream": "stdout",
       "text": [
        " [u'QUANDL.USDEUR.1']\n",
        "Token Cx1CtXeu61zjTzpehmNV activated and saved for later use.\n",
        "Returning Dataframe for "
       ]
      },
      {
       "output_type": "stream",
       "stream": "stdout",
       "text": [
        " [u'FRED.UNRATE.1']\n",
        "Token Cx1CtXeu61zjTzpehmNV activated and saved for later use.\n",
        "Returning Dataframe for "
       ]
      },
      {
       "output_type": "stream",
       "stream": "stdout",
       "text": [
        " [u'YAHOO.INDEX_GSPC.6']\n"
       ]
      }
     ],
     "prompt_number": 54
    },
    {
     "cell_type": "code",
     "collapsed": false,
     "input": [],
     "language": "python",
     "metadata": {},
     "outputs": []
    }
   ],
   "metadata": {}
  }
 ]
}