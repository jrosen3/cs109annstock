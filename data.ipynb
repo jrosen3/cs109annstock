{
 "metadata": {
  "name": ""
 },
 "nbformat": 3,
 "nbformat_minor": 0,
 "worksheets": [
  {
   "cells": [
    {
     "cell_type": "code",
     "collapsed": false,
     "input": [
      "# special IPython command to prepare the notebook for matplotlib\n",
      "%matplotlib inline\n",
      "\n",
      "import numpy as np\n",
      "import pandas as pd\n",
      "import math\n",
      "import scipy\n",
      "import random\n",
      "import Quandl\n",
      "import matplotlib.pyplot as plt\n",
      "\n",
      "import string\n",
      "\n",
      "# set some nicer defaults for matplotlib\n",
      "from matplotlib import rcParams\n",
      "\n",
      "import scipy.stats as stats\n",
      "\n",
      "#these colors come from colorbrewer2.org. Each is an RGB triplet\n",
      "dark2_colors = [(0.10588235294117647, 0.6196078431372549, 0.4666666666666667),\n",
      "                (0.8509803921568627, 0.37254901960784315, 0.00784313725490196),\n",
      "                (0.4588235294117647, 0.4392156862745098, 0.7019607843137254),\n",
      "                (0.9058823529411765, 0.1607843137254902, 0.5411764705882353),\n",
      "                (0.4, 0.6509803921568628, 0.11764705882352941),\n",
      "                (0.9019607843137255, 0.6705882352941176, 0.00784313725490196),\n",
      "                (0.6509803921568628, 0.4627450980392157, 0.11372549019607843),\n",
      "                (0.4, 0.4, 0.4)]\n",
      "\n",
      "rcParams['figure.figsize'] = (10, 6)\n",
      "rcParams['figure.dpi'] = 150\n",
      "rcParams['axes.color_cycle'] = dark2_colors\n",
      "rcParams['lines.linewidth'] = 2\n",
      "rcParams['axes.grid'] = True\n",
      "rcParams['axes.facecolor'] = '#eeeeee'\n",
      "rcParams['font.size'] = 14\n",
      "rcParams['patch.edgecolor'] = 'none'\n",
      "\n",
      "authtoken='Cx1CtXeu61zjTzpehmNV'"
     ],
     "language": "python",
     "metadata": {},
     "outputs": [],
     "prompt_number": 4
    },
    {
     "cell_type": "code",
     "collapsed": false,
     "input": [
      "data = {'gold_price':'BUNDESBANK/BBK01_WT5511.1',\n",
      "        'usd_to_pound':'QUANDL/USDGBP.1',\n",
      "        'cpi':'FRED/CPIAUCSL.1',\n",
      "        'unemployment':'FRED/UNRATE.1',\n",
      "        'gas_price':'BTS_MM/RETAILGAS.1',\n",
      "        'house_sales':'FRED/HSN1F.1',\n",
      "        'usd_to_euro':'QUANDL/USDEUR.1'}"
     ],
     "language": "python",
     "metadata": {},
     "outputs": [],
     "prompt_number": 38
    },
    {
     "cell_type": "code",
     "collapsed": false,
     "input": [
      "def get_quandl_data(quandl_codes):\n",
      "    list_of_data = []\n",
      "    for number, code in enumerate(quandl_codes.values()):\n",
      "        data = Quandl.get([code], authtoken=authtoken)\n",
      "        data.columns = [quandl_codes.keys()[number]]\n",
      "        list_of_data.append(data)\n",
      "    return list_of_data"
     ],
     "language": "python",
     "metadata": {},
     "outputs": [],
     "prompt_number": 43
    },
    {
     "cell_type": "code",
     "collapsed": false,
     "input": [
      "d = get_quandl_data(data)\n",
      "        "
     ],
     "language": "python",
     "metadata": {},
     "outputs": [
      {
       "output_type": "stream",
       "stream": "stdout",
       "text": [
        "Token Cx1CtXeu61zjTzpehmNV activated and saved for later use.\n",
        "Returning Dataframe for "
       ]
      },
      {
       "output_type": "stream",
       "stream": "stdout",
       "text": [
        " [u'FRED.CPIAUCSL.1']\n",
        "Token Cx1CtXeu61zjTzpehmNV activated and saved for later use.\n",
        "Returning Dataframe for "
       ]
      },
      {
       "output_type": "stream",
       "stream": "stdout",
       "text": [
        " [u'QUANDL.USDEUR.1']\n",
        "Token Cx1CtXeu61zjTzpehmNV activated and saved for later use.\n",
        "Returning Dataframe for "
       ]
      },
      {
       "output_type": "stream",
       "stream": "stdout",
       "text": [
        " [u'BTS_MM.RETAILGAS.1']\n",
        "Token Cx1CtXeu61zjTzpehmNV activated and saved for later use.\n",
        "Returning Dataframe for "
       ]
      },
      {
       "output_type": "stream",
       "stream": "stdout",
       "text": [
        " [u'BUNDESBANK.BBK01_WT5511.1']\n",
        "Token Cx1CtXeu61zjTzpehmNV activated and saved for later use.\n",
        "Returning Dataframe for "
       ]
      },
      {
       "output_type": "stream",
       "stream": "stdout",
       "text": [
        " [u'FRED.UNRATE.1']\n",
        "Token Cx1CtXeu61zjTzpehmNV activated and saved for later use.\n",
        "Returning Dataframe for "
       ]
      },
      {
       "output_type": "stream",
       "stream": "stdout",
       "text": [
        " [u'QUANDL.USDGBP.1']\n",
        "Token Cx1CtXeu61zjTzpehmNV activated and saved for later use.\n",
        "Returning Dataframe for "
       ]
      },
      {
       "output_type": "stream",
       "stream": "stdout",
       "text": [
        " [u'FRED.HSN1F.1']\n"
       ]
      }
     ],
     "prompt_number": 44
    },
    {
     "cell_type": "code",
     "collapsed": false,
     "input": [
      "print d"
     ],
     "language": "python",
     "metadata": {},
     "outputs": [
      {
       "output_type": "stream",
       "stream": "stdout",
       "text": [
        "[<class 'pandas.core.frame.DataFrame'>\n",
        "DatetimeIndex: 802 entries, 1947-01-01 00:00:00 to 2013-10-01 00:00:00\n",
        "Data columns (total 1 columns):\n",
        "cpi    802  non-null values\n",
        "dtypes: float64(1), <class 'pandas.core.frame.DataFrame'>\n",
        "DatetimeIndex: 3715 entries, 1999-09-06 00:00:00 to 2013-11-29 00:00:00\n",
        "Data columns (total 1 columns):\n",
        "usd_to_euro    3715  non-null values\n",
        "dtypes: float64(1), <class 'pandas.core.frame.DataFrame'>\n",
        "DatetimeIndex: 929 entries, 1995-01-02 00:00:00 to 2012-10-15 00:00:00\n",
        "Data columns (total 1 columns):\n",
        "gas_price    929  non-null values\n",
        "dtypes: float64(1), <class 'pandas.core.frame.DataFrame'>\n",
        "DatetimeIndex: 11552 entries, 1968-04-01 00:00:00 to 2013-11-29 00:00:00\n",
        "Data columns (total 1 columns):\n",
        "gold_price    11552  non-null values\n",
        "dtypes: float64(1), <class 'pandas.core.frame.DataFrame'>\n",
        "DatetimeIndex: 790 entries, 1948-01-01 00:00:00 to 2013-10-01 00:00:00\n",
        "Data columns (total 1 columns):\n",
        "unemployment    790  non-null values\n",
        "dtypes: float64(1), <class 'pandas.core.frame.DataFrame'>\n",
        "DatetimeIndex: 5934 entries, 1991-03-05 00:00:00 to 2013-11-29 00:00:00\n",
        "Data columns (total 1 columns):\n",
        "usd_to_pound    5934  non-null values\n",
        "dtypes: float64(1), <class 'pandas.core.frame.DataFrame'>\n",
        "DatetimeIndex: 608 entries, 1963-01-01 00:00:00 to 2013-08-01 00:00:00\n",
        "Data columns (total 1 columns):\n",
        "house_sales    608  non-null values\n",
        "dtypes: float64(1)]\n"
       ]
      }
     ],
     "prompt_number": 50
    },
    {
     "cell_type": "code",
     "collapsed": false,
     "input": [],
     "language": "python",
     "metadata": {},
     "outputs": []
    }
   ],
   "metadata": {}
  }
 ]
}