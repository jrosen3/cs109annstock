{
 "metadata": {
  "name": ""
 },
 "nbformat": 3,
 "nbformat_minor": 0,
 "worksheets": [
  {
   "cells": [
    {
     "cell_type": "code",
     "collapsed": false,
     "input": [
      "%matplotlib inline\n",
      "\n",
      "import json\n",
      "import Quandl\n",
      "import urllib\n",
      "import numpy as np\n",
      "import networkx as nx\n",
      "import requests\n",
      "from pattern import web\n",
      "import matplotlib.pyplot as plt\n",
      "import pandas as pd\n",
      "import calendar\n",
      "import datetime\n",
      "from pandas.tseries.offsets import *\n",
      "# set some nicer defaults for matplotlib\n",
      "from matplotlib import rcParams\n",
      "from pattern import web\n",
      "from itertools import combinations"
     ],
     "language": "python",
     "metadata": {},
     "outputs": [],
     "prompt_number": 2
    },
    {
     "cell_type": "code",
     "collapsed": false,
     "input": [
      "def collapser(df, date_begin, date_end):\n",
      "    df = df.asfreq(BDay())\n",
      "    df = df.apply(pd.Series.interpolate)\n",
      "    df = df.asfreq(Week(weekday=1))\n",
      "    df = df.truncate(before=date_begin, after=date_end)\n",
      "    return df\n",
      "\n",
      "data = Quandl.get(\"PUP/US_MONTHLY_INDEX_COMP\")\n",
      "data2 = Quandl.get(\"BUNDESBANK/BBK01_WT5511\")\n",
      "\n",
      "data = collapser(data, '4/25/1985', '11/01/1985')\n",
      "data2 = collapser(data2,'4/25/1985', '11/01/1985')\n",
      "print data[:10]\n",
      "print data2[:10]\n",
      "\n",
      "datas = []\n",
      "datas.append(data)\n",
      "datas.append(data2)\n",
      "data4 = pd.concat(datas,axis=1)\n",
      "print data4[:10]\n",
      "\n",
      "    \n",
      "    \n",
      "    \n"
     ],
     "language": "python",
     "metadata": {},
     "outputs": [
      {
       "output_type": "stream",
       "stream": "stdout",
       "text": [
        "No authentication tokens found: usage will be limited.\n",
        "See www.quandl.com/api for more information.\n",
        "Returning Dataframe for "
       ]
      },
      {
       "output_type": "stream",
       "stream": "stdout",
       "text": [
        " PUP/US_MONTHLY_INDEX_COMP\n",
        "No authentication tokens found: usage will be limited.\n",
        "See www.quandl.com/api for more information.\n",
        "Returning Dataframe for "
       ]
      },
      {
       "output_type": "stream",
       "stream": "stdout",
       "text": [
        " BUNDESBANK/BBK01_WT5511\n",
        "            News_Based_Policy_Uncert_Index  FedStateLocal_Ex_disagreement  \\\n",
        "1985-04-30                       67.823090                     131.495529   \n",
        "1985-05-07                       70.131749                     133.130611   \n",
        "1985-05-14                       72.440409                     134.765693   \n",
        "1985-05-21                       74.749069                     136.400775   \n",
        "1985-05-28                       77.057729                     138.035857   \n",
        "1985-06-04                       78.940095                     139.048930   \n",
        "1985-06-11                       80.183021                     139.128987   \n",
        "1985-06-18                       81.425947                     139.209044   \n",
        "1985-06-25                       82.668873                     139.289101   \n",
        "1985-07-02                       83.911799                     139.369158   \n",
        "\n",
        "            CPI_disagreement  Tax_expiration  \n",
        "1985-04-30        136.022339       13.494806  \n",
        "1985-05-07        143.414857       13.494806  \n",
        "1985-05-14        150.807376       13.494806  \n",
        "1985-05-21        158.199894       13.494806  \n",
        "1985-05-28        165.592413       13.494806  \n",
        "1985-06-04        170.027924       13.494806  \n",
        "1985-06-11        170.027924       13.494806  \n",
        "1985-06-18        170.027924       13.494806  \n",
        "1985-06-25        170.027924       13.494806  \n",
        "1985-07-02        170.027924       13.494806  \n",
        "             Value\n",
        "1985-04-30  324.65\n",
        "1985-05-07  311.25\n",
        "1985-05-14  324.75\n",
        "1985-05-21  316.50\n",
        "1985-05-28  313.90\n",
        "1985-06-04  316.25\n",
        "1985-06-11  313.25\n",
        "1985-06-18  321.65\n",
        "1985-06-25  315.90\n",
        "1985-07-02  310.85\n",
        "            News_Based_Policy_Uncert_Index  FedStateLocal_Ex_disagreement  \\\n",
        "1985-04-30                       67.823090                     131.495529   \n",
        "1985-05-07                       70.131749                     133.130611   \n",
        "1985-05-14                       72.440409                     134.765693   \n",
        "1985-05-21                       74.749069                     136.400775   \n",
        "1985-05-28                       77.057729                     138.035857   \n",
        "1985-06-04                       78.940095                     139.048930   \n",
        "1985-06-11                       80.183021                     139.128987   \n",
        "1985-06-18                       81.425947                     139.209044   \n",
        "1985-06-25                       82.668873                     139.289101   \n",
        "1985-07-02                       83.911799                     139.369158   \n",
        "\n",
        "            CPI_disagreement  Tax_expiration   Value  \n",
        "1985-04-30        136.022339       13.494806  324.65  \n",
        "1985-05-07        143.414857       13.494806  311.25  \n",
        "1985-05-14        150.807376       13.494806  324.75  \n",
        "1985-05-21        158.199894       13.494806  316.50  \n",
        "1985-05-28        165.592413       13.494806  313.90  \n",
        "1985-06-04        170.027924       13.494806  316.25  \n",
        "1985-06-11        170.027924       13.494806  313.25  \n",
        "1985-06-18        170.027924       13.494806  321.65  \n",
        "1985-06-25        170.027924       13.494806  315.90  \n",
        "1985-07-02        170.027924       13.494806  310.85  "
       ]
      },
      {
       "output_type": "stream",
       "stream": "stdout",
       "text": [
        "\n"
       ]
      }
     ],
     "prompt_number": 14
    },
    {
     "cell_type": "code",
     "collapsed": false,
     "input": [
      "cal = calendar.Calendar()\n",
      "#cal.yeardatescalendar(1986)\n",
      "datetime.date.min\n"
     ],
     "language": "python",
     "metadata": {},
     "outputs": [
      {
       "metadata": {},
       "output_type": "pyout",
       "prompt_number": 20,
       "text": [
        "datetime.date(1, 1, 1)"
       ]
      }
     ],
     "prompt_number": 20
    },
    {
     "cell_type": "code",
     "collapsed": false,
     "input": [
      "begin_date=-np.inf\n",
      "end_date=np.inf\n",
      "for i in list_of_data:\n",
      "    if (i.index[1]>begin_date):\n",
      "            begin_date=i.index[1]\n",
      "    if (i.index[-1]<end_date):\n",
      "            end_date=i.index[-1]\n",
      "    "
     ],
     "language": "python",
     "metadata": {},
     "outputs": [
      {
       "ename": "NameError",
       "evalue": "name 'list_of_data' is not defined",
       "output_type": "pyerr",
       "traceback": [
        "\u001b[0;31m---------------------------------------------------------------------------\u001b[0m\n\u001b[0;31mNameError\u001b[0m                                 Traceback (most recent call last)",
        "\u001b[0;32m<ipython-input-15-f8d865f8e226>\u001b[0m in \u001b[0;36m<module>\u001b[0;34m()\u001b[0m\n\u001b[1;32m      1\u001b[0m \u001b[0mbegin_date\u001b[0m\u001b[0;34m=\u001b[0m\u001b[0;34m-\u001b[0m\u001b[0mnp\u001b[0m\u001b[0;34m.\u001b[0m\u001b[0minf\u001b[0m\u001b[0;34m\u001b[0m\u001b[0m\n\u001b[1;32m      2\u001b[0m \u001b[0mend_date\u001b[0m\u001b[0;34m=\u001b[0m\u001b[0mnp\u001b[0m\u001b[0;34m.\u001b[0m\u001b[0minf\u001b[0m\u001b[0;34m\u001b[0m\u001b[0m\n\u001b[0;32m----> 3\u001b[0;31m \u001b[0;32mfor\u001b[0m \u001b[0mi\u001b[0m \u001b[0;32min\u001b[0m \u001b[0mlist_of_data\u001b[0m\u001b[0;34m:\u001b[0m\u001b[0;34m\u001b[0m\u001b[0m\n\u001b[0m\u001b[1;32m      4\u001b[0m     \u001b[0;32mif\u001b[0m \u001b[0;34m(\u001b[0m\u001b[0mi\u001b[0m\u001b[0;34m.\u001b[0m\u001b[0mindex\u001b[0m\u001b[0;34m[\u001b[0m\u001b[0;36m1\u001b[0m\u001b[0;34m]\u001b[0m\u001b[0;34m>\u001b[0m\u001b[0mbegin_date\u001b[0m\u001b[0;34m)\u001b[0m\u001b[0;34m:\u001b[0m\u001b[0;34m\u001b[0m\u001b[0m\n\u001b[1;32m      5\u001b[0m             \u001b[0mbegin_date\u001b[0m\u001b[0;34m=\u001b[0m\u001b[0mi\u001b[0m\u001b[0;34m.\u001b[0m\u001b[0mindex\u001b[0m\u001b[0;34m[\u001b[0m\u001b[0;36m1\u001b[0m\u001b[0;34m]\u001b[0m\u001b[0;34m\u001b[0m\u001b[0m\n",
        "\u001b[0;31mNameError\u001b[0m: name 'list_of_data' is not defined"
       ]
      }
     ],
     "prompt_number": 15
    },
    {
     "cell_type": "code",
     "collapsed": false,
     "input": [
      "def collapser(data):\n",
      "    row=\n",
      "        "
     ],
     "language": "python",
     "metadata": {},
     "outputs": []
    }
   ],
   "metadata": {}
  }
 ]
}